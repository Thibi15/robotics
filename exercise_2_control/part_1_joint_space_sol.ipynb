{
 "cells": [
  {
   "cell_type": "code",
   "execution_count": null,
   "metadata": {},
   "outputs": [],
   "source": [
    "#%load_ext autoreload\n",
    "#%autoreload 2\n",
    "\n",
    "from example_robot_data import load\n",
    "from pinocchio.visualize import MeshcatVisualizer\n",
    "import numpy as np\n",
    "import time\n",
    "import pinocchio as pin"
   ]
  },
  {
   "cell_type": "markdown",
   "metadata": {},
   "source": [
    "# Robotics Course : Control Exercise"
   ]
  },
  {
   "cell_type": "markdown",
   "metadata": {},
   "source": [
    "This exercise requires an additional package (rockit), which was not installed in the default software environment.\n",
    "\n",
    "This package can be installed via: ``pip install rockit-meco``"
   ]
  },
  {
   "cell_type": "markdown",
   "metadata": {},
   "source": [
    "## Part 1 : Implement a joint-space controller\n",
    "\n",
    "In this task, the goal is to implement a joint-space controller that also compensates for the nonlinear dynamics of the robot.\n",
    "Specifically, your role is to implement the controller in the figure below. Some code is provided, such as a (basic) motion planner, and a simulation environment.\n",
    "\n",
    "<p align=\"center\">\n",
    "    <img src=\"figures/jointservo.svg\" width=\"80%\">\n",
    "</p>"
   ]
  },
  {
   "cell_type": "markdown",
   "metadata": {},
   "source": [
    "### Questions\n",
    "- 1.1 Implement the controller shown in the figure above within the ``controller`` python function.\n",
    "- 1.2 Investigate the role of the feedforward and feedback terms.\n",
    "  - 1.2.1 What happens without the feedforward terms ($\\dot{q}_\\text{des}$ and $\\ddot{q}_\\text{des}$)? Can you increase the feedback gains to compensate?\n",
    "  - 1.2.2 What happens if there is no model mismatch? Is the feedback still necessary?\n",
    "- 1.3 What happens of you remove the motion planner, and directly supply the goal position ($\\dot{q}_\\text{goal}$) to the controller?\n",
    "- 1.4 How would you modify the controller to only receive a velocity reference?"
   ]
  },
  {
   "cell_type": "markdown",
   "metadata": {},
   "source": [
    "### Answers\n",
    "- 1.1 See the code below.\n",
    "  You will have to choose the natural frequency.  Theoretically, you can set it as high as you want.  However, in practice this is limited by:\n",
    "    - Our assumption that the robot consists of rigid bodies connected with joints.  At higher frequencies this is not true any more and resonance frequencies of\n",
    "      the links of the robot are excited.\n",
    "    - The motor dynamics is typically neglected  At high frequencies, however, this can play a role.\n",
    "    - The control loop is executed in discrete time with a given sample period (in our simulation 1/200 s). At very high frequency, this delay can cause instability.  In practice, while communicating with a robot's industrial controller, we can even loose more than one sample period due to the communication.  \n",
    "- 1.2 Feedforward and feedback:\n",
    "    - 1.2.1 Without the feedforward, tracking errors occur. Increasing the feedback gain reduces these errors. However, if the gain is too high, the controller may become unstable due to unmodeled dynamics.  The lecture notes give formulae of the tracking errors you can expect (when there is no model mismatch).\n",
    "    - 1.2.2 In an ideal scenario, no feedback would be necessary, in practice,however, we still have discretization errors still that cause tracking issues over time (\"drift\").  Additionally, if there is an initial error, it will not be corrected.  It is important to notice that the nominal motion of the robot\n",
    "    is given by the feedforward, and the feedback only serves to correct errors (if they occur).  \n",
    "    \n",
    "        It is also very difficult to obtain an exact model.  Friction is difficult to model, and even for the other dynamic parameters, an identification of the robot is needed to obtain a reasonable accurate model.  Typically, it is not enough to rely on the CAD-model of the robot.  \n",
    "        \n",
    "        Additionally, also the kinematic model typically needs to be identified/calibrated.  Due to manufacturing errors, there are often encoder offsets for the joint angle measurements; and the perpendicularity of the robot axes is only up to manufacturing tolerance.\n",
    "\n",
    "- 1.3 When the position is directly supplied to the controller, there is a large control error, and the robot moves aggressively toward the goal. The control signals will probably exceed the capabilities of the actuators.  On a real robot, this can cause damage, and the controller may become even unstable if (some of) the actuators saturate. This sudden impact also introduces high frequency excitation into the system, and one cannot assume any more that the links of the robot are completely rigid.\n",
    "\n",
    "- 1.4 To modify the controller to receive only a velocity reference, the outer position loop must be removed. This can be achieved by setting the gain $k_p$​ to zero."
   ]
  },
  {
   "cell_type": "markdown",
   "metadata": {},
   "source": [
    "### Load a robot and create a visualization environment"
   ]
  },
  {
   "cell_type": "code",
   "execution_count": null,
   "metadata": {},
   "outputs": [],
   "source": [
    "# load a robot from the example robot data\n",
    "robot = load(\"ur10\")\n",
    "\n",
    "# create a vizualizer\n",
    "viz = MeshcatVisualizer(robot.model, robot.collision_model, robot.visual_model)\n",
    "viz.initViewer(loadModel=True)\n",
    "\n",
    "# set the start position and show the robot\n",
    "robot.q0 = np.array([np.pi, -np.pi/2, 4.5, 4.6, np.pi/2, 0])\n",
    "viz.display(robot.q0)\n",
    "# viz.viewer.jupyter_cell() #uncomment to view in notebook"
   ]
  },
  {
   "cell_type": "markdown",
   "metadata": {},
   "source": [
    "### Define the feedback controller\n",
    "\n",
    "TODO: implement your feedback controller here"
   ]
  },
  {
   "cell_type": "code",
   "execution_count": null,
   "metadata": {},
   "outputs": [],
   "source": [
    "def controller(q_actual, dq_actual, q_des=0, dq_des=0, ddq_des=0):\n",
    "    \"\"\"\n",
    "    Controller function to compute the torque based on desired and actual positions and velocities.\n",
    "\n",
    "    Args:\n",
    "        q_actual (np.ndarray): Actual positions.\n",
    "        dq_actual (np.ndarray): Actual velocities.\n",
    "        q_des (np.ndarray): Desired positions.\n",
    "        dq_des (np.ndarray): Desired velocities.\n",
    "        ddq_des (np.ndarray): Desired acceleration.\n",
    "\n",
    "    Returns:\n",
    "        np.ndarray: Computed torques to be applied.\n",
    "    \"\"\"\n",
    "\n",
    "    # define the reponse of the controller:\n",
    "    zeta = 0.707 # damping ratio\n",
    "    wn = 10 # natural frequency\n",
    "\n",
    "    ##################################\n",
    "\n",
    "    # TODO: implement the controller. Hint, use pinocchio to compute the inverse dynamics (pin.rnea)\n",
    "    torque = np.zeros(robot.model.nq)\n",
    "\n",
    "    ##################################\n",
    "\n",
    "    ### SOLUTION #####################\n",
    "    # define the feedback gains\n",
    "    kv = 2*zeta*wn\n",
    "    kp = wn/(2*zeta)\n",
    "\n",
    "    # the position loop\n",
    "    q_err = q_des - q_actual\n",
    "    # the velocity loop\n",
    "    dq_ref = kp*q_err + dq_des\n",
    "    dq_error = dq_ref - dq_actual\n",
    "    # the acceleration loop\n",
    "    a_q = kv*dq_error + ddq_des\n",
    "\n",
    "    # # convert the reference acceleration to torque using inverse dynamics\n",
    "    torque = pin.rnea(robot.model, robot.data, q_actual,\n",
    "                      dq_actual, a_q)\n",
    "    ##################################\n",
    "\n",
    "    return torque"
   ]
  },
  {
   "cell_type": "markdown",
   "metadata": {},
   "source": [
    "### The simulation loop"
   ]
  },
  {
   "cell_type": "code",
   "execution_count": null,
   "metadata": {},
   "outputs": [],
   "source": [
    "# create a torque robot simulation\n",
    "from utils.robot_simulator import TorqueRobotSim\n",
    "robot_sim = TorqueRobotSim(robot, add_model_mismatch = True)\n",
    "\n",
    "# set parameters for the simulation\n",
    "control_freq = 200 #hz\n",
    "render_freq = 32 #hz\n",
    "sim_time = 3 #sec\n",
    "\n",
    "# reset the robot to starting position\n",
    "robot_sim.reset()\n",
    "\n",
    "# generate a motion from current position to goal\n",
    "from utils.motion_generator import MotionPlanner\n",
    "q_start = robot_sim.get_joint_pos()\n",
    "q_goal = q_start + 0.7\n",
    "motion = MotionPlanner(q_start, q_goal, dq_max= 0.5, ddq_max=0.5)\n",
    "\n",
    "# start the simulation loop\n",
    "for t in np.arange(0, sim_time, 1/control_freq):\n",
    "    # get the current position and velocity of the robot\n",
    "    q, dq = robot_sim.get_joint_state()\n",
    "\n",
    "    # ask the motion generator for the joint position, velocity, and acceleration reference.\n",
    "    q_des, dq_des, ddq_des = motion(t)\n",
    "\n",
    "    # run the controller with the specified motion\n",
    "    torque = controller(q, dq, q_des, dq_des, ddq_des)\n",
    "\n",
    "    # uncomment to run the controller without feedforward\n",
    "    # torque = controller(q, dq, q_des, 0, 0)\n",
    "\n",
    "    # uncomment to run the controller without motion generator\n",
    "    # torque = controller(q, dq, q_goal, 0, 0)\n",
    "\n",
    "    # simulate the robot\n",
    "    robot_sim.step(torque, 1/control_freq)\n",
    "\n",
    "    # update the vizualization at the correct rate\n",
    "    if t % (1/render_freq) < 1/control_freq:\n",
    "        viz.display(q)\n",
    "        time.sleep(1 / render_freq)"
   ]
  },
  {
   "cell_type": "markdown",
   "metadata": {},
   "source": [
    "### Plot the results"
   ]
  },
  {
   "cell_type": "code",
   "execution_count": null,
   "metadata": {},
   "outputs": [],
   "source": [
    "from matplotlib import pyplot as plt\n",
    "\n",
    "# generate a plot for the joint positions\n",
    "fig, axs = plt.subplots(6, 2, figsize=(10, 7), sharex=True)\n",
    "\n",
    "# Set titles for each column\n",
    "axs[0, 0].set_title(\"Joint positions [rad]\")\n",
    "axs[0, 1].set_title(\"Joint velocities [rad/s]\")\n",
    "axs[-1, 0].set_xlabel(\"Time [s]\")\n",
    "axs[-1, 1].set_xlabel(\"Time [s]\")\n",
    "\n",
    "q_des_arr, dq_des_arr, ddq_des_arr = motion(robot_sim.t_list)\n",
    "\n",
    "for i in range(6):\n",
    "    # Plot joint positions\n",
    "    axs[i, 0].plot(robot_sim.t_list, np.array(robot_sim.q_list)[:, i], label='q_'+str(i))\n",
    "    axs[i, 0].plot(robot_sim.t_list, q_des_arr[:, i], label='q_'+str(i)+\"_ref\")\n",
    "    axs[i, 0].legend()\n",
    "    axs[i, 0].grid(True)\n",
    "    \n",
    "    # Plot joint velocities\n",
    "    axs[i, 1].plot(robot_sim.t_list, np.array(robot_sim.dq_list)[:, i], label='dq_'+str(i))\n",
    "    axs[i, 1].plot(robot_sim.t_list, dq_des_arr[:, i], label='dq_'+str(i)+\"_ref\")\n",
    "    axs[i, 1].legend()\n",
    "    axs[i, 1].grid(True)\n",
    "\n",
    "# Add x label\n",
    "\n",
    "plt.tight_layout()\n",
    "plt.show()\n",
    "\n",
    "# plot all the joint torques\n",
    "fig, ax = plt.subplots(6,1,figsize=(5, 5))\n",
    "for i in range(6):\n",
    "    ax[i].plot(robot_sim.t_list[1:], np.array(robot_sim.u_list)[:, i], label='torque_'+str(i))\n",
    "    ax[i].grid(True)\n",
    "\n",
    "ax[0].set_title(\"Joint Torques [Nm]\")\n",
    "ax[-1].set_xlabel(\"Time [s]\")\n",
    "plt.show()"
   ]
  },
  {
   "cell_type": "markdown",
   "metadata": {},
   "source": []
  }
 ],
 "metadata": {
  "kernelspec": {
   "display_name": "py13roboticscourse",
   "language": "python",
   "name": "python3"
  },
  "language_info": {
   "codemirror_mode": {
    "name": "ipython",
    "version": 3
   },
   "file_extension": ".py",
   "mimetype": "text/x-python",
   "name": "python",
   "nbconvert_exporter": "python",
   "pygments_lexer": "ipython3",
   "version": "3.13.2"
  }
 },
 "nbformat": 4,
 "nbformat_minor": 2
}
