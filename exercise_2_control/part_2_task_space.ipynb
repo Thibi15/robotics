{
 "cells": [
  {
   "cell_type": "code",
   "execution_count": null,
   "metadata": {},
   "outputs": [],
   "source": [
    "%load_ext autoreload\n",
    "%autoreload 2\n",
    "\n",
    "\n",
    "# numpy provides import array and linear algebra utilities\n",
    "import numpy as np\n",
    "# casadi is a library for symbolic computation\n",
    "import casadi as ca\n",
    "# the transformations module provides functions for creating transformations\n",
    "import utils.transformations as ta\n",
    "from example_robot_data import load\n",
    "from pinocchio.visualize import MeshcatVisualizer\n",
    "import time\n",
    "import meshcat\n",
    "import matplotlib.pyplot as plt\n"
   ]
  },
  {
   "cell_type": "markdown",
   "metadata": {},
   "source": [
    "# Robotics Course : Control Exercise\n",
    "\n",
    "## Part 2 : Implement a task-space controller"
   ]
  },
  {
   "cell_type": "markdown",
   "metadata": {},
   "source": [
    "In this section the goal is to implement a controller that directly controls the robot in Cartesian space.\n",
    "Some code is provided with a simulation environment, and your role is to compute the control input given the task error, task Jacobian, and feedforward terms.\n",
    "\n",
    "In part 1, you (hopefully) designed a controller that allows the robot to track joint position, velocity and acceleration references.\n",
    "Therefore, this part assumes that the velocity of each joint can be directly controlled (with a controller similar to the one designed in part 1).\n",
    "However, be careful!\n",
    "If your task space controller is too aggressive, your feedback controller may become unstable...\n"
   ]
  },
  {
   "cell_type": "markdown",
   "metadata": {},
   "source": [
    "### Load a robot and create a visualization environment"
   ]
  },
  {
   "cell_type": "code",
   "execution_count": null,
   "metadata": {},
   "outputs": [],
   "source": [
    "robot = load(\"panda\")\n",
    "viz = MeshcatVisualizer(robot.model, robot.collision_model, robot.visual_model)\n",
    "viz.initViewer(loadModel=True)\n",
    "\n",
    "# Add floor\n",
    "material_black = meshcat.geometry.MeshPhongMaterial()\n",
    "material_black.color = int(100) * 256**2 + int(100) * 256 + int(100)\n",
    "viz.viewer['floor'].set_object(meshcat.geometry.Box([1.25, 1, 0.01]), material_black)\n",
    "viz.viewer['floor'].set_transform(ta.SE3_from_xyz_rpy([0.375, 0, -0.01], [0, 0, 0]))\n",
    "\n",
    "# Set initial joint angles\n",
    "q0 = np.array([-0.37, -0.88, -0.24, -2.35, -0.18,  1.47, 0.24])\n",
    "viz.display(np.append(q0, [0,0]))\n",
    "# viz.viewer.jupyter_cell()"
   ]
  },
  {
   "cell_type": "markdown",
   "metadata": {},
   "source": [
    "### Model the system\n",
    "\n",
    "#### Forward kinematics of the robot\n",
    "Load a casadi function for the forward kinematics of the Franka Panda robot (generated with Pinocchio) \n",
    "\n",
    "$$T_{\\text{w,ee}} (q) = \\texttt{fk}(q) $$"
   ]
  },
  {
   "cell_type": "code",
   "execution_count": null,
   "metadata": {},
   "outputs": [],
   "source": [
    "# load casadi function for the forward kinematics of the end effector\n",
    "# this function was generate using Pinocchio as shown in exercise 1\n",
    "T_world_ee_fn = ca.Function.load('panda_T_world_ee.casadi')"
   ]
  },
  {
   "cell_type": "markdown",
   "metadata": {},
   "source": [
    "#### Goal trajectory to follow\n",
    "\n",
    "Define a goal trajectory $ T_{\\text{w,goal}}(t) $ for the robot to follow: "
   ]
  },
  {
   "cell_type": "code",
   "execution_count": null,
   "metadata": {},
   "outputs": [],
   "source": [
    "t_sym = ca.MX.sym(\"t_sym\")\n",
    "\n",
    "# define the target pose\n",
    "T_world_goal = ta.SE3_from_xyz_rpy(\n",
    "    xyz=[0.5-0.3*ca.cos(t_sym), 0, 0.5], rpy=[np.pi,0,0])\n",
    "\n",
    "# convert to a casadi function to evaluate numerically\n",
    "T_world_goal_fn = ca.Function(\"T_world_goal_fn\", [t_sym], [\n",
    "                              T_world_goal], [\"t\"], [\"T_world_goal\"])"
   ]
  },
  {
   "cell_type": "markdown",
   "metadata": {},
   "source": [
    "#### Pose error between the end-effector and the goal\n",
    "\n",
    "Compute the error between the end-effector and the goal:\n",
    "\n",
    "$$\n",
    "e(q, t) = \\begin{bmatrix} \\texttt{axis\\_angle}( R_{\\text{ee,goal}} (q, t) \\\\_\\text{ee} p ^\\text{ee, goal} ) \\end{bmatrix} \n",
    "$$\n",
    "\n",
    "where\n",
    "\n",
    "$$\n",
    "\\begin{align*}\n",
    "T_{\\text{ee,goal}} (q, t) &= (T_{\\text{w,ee}}(q))^{-1} T_{\\text{w,goal}} (t) \\\\\n",
    "&= \\begin{bmatrix}R_{\\text{ee,goal}}(q, t) & _\\text{ee} p ^\\text{ee, goal} \\\\ 0_{3 \\times 3} & 1 \\end{bmatrix}\n",
    "\\end{align*}\n",
    "$$"
   ]
  },
  {
   "cell_type": "code",
   "execution_count": null,
   "metadata": {},
   "outputs": [],
   "source": [
    "q_sym = ca.MX.sym(\"q_sym\", 7)\n",
    "\n",
    "# compute the transformation between ee and goal\n",
    "T_world_ee = T_world_ee_fn(q_sym)\n",
    "T_ee_goal = ta.inverse_SE3(T_world_ee) @ T_world_goal\n",
    "\n",
    "# extract the position error\n",
    "pos_error = T_ee_goal[:3, 3]\n",
    "# extract the orientation error\n",
    "R_ee_goal = T_ee_goal[:3, :3]\n",
    "ori_error = ta.axis_angle_from_rotation_matrix(R_ee_goal)\n",
    "# stack the position and orientation error\n",
    "e_sym = ca.vertcat(ori_error, pos_error)\n",
    "\n",
    "# compute the jacobian of the error\n",
    "J_e_sym = ca.jacobian(e_sym, q_sym)\n",
    "# compute the feed forward term\n",
    "feed_forward = ca.jacobian(e_sym, t_sym)\n",
    "\n",
    "# convert to a casadi function to evaluate numerically\n",
    "e_func = ca.Function(\"e\", [q_sym, t_sym], [e_sym], [\"q\", \"t\"], [\"e\"])\n",
    "J_e_func = ca.Function(\"J_e\", [q_sym, t_sym], [J_e_sym], [\"q\", \"t\"], [\"e\"])\n",
    "feed_forward_func = ca.Function(\"feed_forward\", [q_sym, t_sym], [feed_forward], [\"q\", \"t\"], [\"feed_forward\"])\n",
    "\n",
    "# Add frames to visualization\n",
    "viz.viewer['T_w_ee'].set_object(meshcat.geometry.triad(0.1))\n",
    "viz.viewer['T_w_ee'].set_transform(T_world_ee_fn(q0).full())\n",
    "\n",
    "viz.viewer['target'].set_object(meshcat.geometry.triad(0.1))\n",
    "viz.viewer['target'].set_transform(T_world_goal_fn(0).full())"
   ]
  },
  {
   "cell_type": "markdown",
   "metadata": {},
   "source": [
    "### The simulation loop\n"
   ]
  },
  {
   "cell_type": "code",
   "execution_count": null,
   "metadata": {},
   "outputs": [],
   "source": [
    "def simulate(controller, q0):\n",
    "    \"\"\"\n",
    "    Simulates the robot using the given controller and initial joint positions.\n",
    "\n",
    "    Parameters:\n",
    "    controller (function): The robot controller function.\n",
    "    q0 (numpy.ndarray): The initial joint positions of the robot.\n",
    "    \"\"\"\n",
    "\n",
    "    # set parameters for the simulation\n",
    "    control_freq = 100 #hz\n",
    "    render_freq = 32 #hz\n",
    "    sim_time = 10 #sec\n",
    "\n",
    "    q = q0\n",
    "\n",
    "    # create a torque robot simulation\n",
    "    from utils.robot_simulator import VelocityRobotSim\n",
    "    robot_sim = VelocityRobotSim(q0 = q0, n_joints = 7, alpha_internal = 30)\n",
    "\n",
    "    errors = []\n",
    "    t_vec = np.arange(0, sim_time, 1/control_freq)\n",
    "    for t in t_vec:\n",
    "        q = robot_sim.get_joint_pos()\n",
    "        # compute the joint velocities using the robot controller function\n",
    "        dq = controller(q, t)\n",
    "\n",
    "        robot_sim.step(dq, 1/control_freq)\n",
    "\n",
    "        # store the error\n",
    "        error = e_func(q, t).full().ravel()\n",
    "        errors.append(error)\n",
    "\n",
    "        viz.viewer['target'].set_transform(T_world_goal_fn(t).full())\n",
    "        viz.viewer['T_w_ee'].set_transform(T_world_ee_fn(q).full())\n",
    "\n",
    "        # update the visualization at the correct rate\n",
    "        if t % (1/render_freq) < 1/control_freq:\n",
    "            # add two zeroes to end of q for gripper joints\n",
    "            q_robot = np.append(q, [0, 0])\n",
    "            viz.display(q_robot)\n",
    "            time.sleep(1 /(render_freq))\n",
    "\n",
    "    # Plot the errors\n",
    "    error_array = np.array(errors)\n",
    "\n",
    "    # Create subplots\n",
    "    fig, axs = plt.subplots(2, 1, figsize=(8, 6), sharex=True)\n",
    "\n",
    "    # Plot position errors\n",
    "    axs[0].plot(t_vec, error_array[:, :3])\n",
    "    axs[0].set_ylabel('Orientation error [rad]')\n",
    "    axs[0].set_title('Orientation errors over time')\n",
    "    axs[0].grid()\n",
    "\n",
    "    # Plot orientation errors\n",
    "    axs[1].plot(t_vec, error_array[:, 3:])\n",
    "    axs[1].set_xlabel('Time step')\n",
    "    axs[1].set_ylabel('Position error [m]')\n",
    "    axs[1].set_title('Position errors over time')\n",
    "    axs[1].grid()\n",
    "\n",
    "    plt.tight_layout()\n",
    "    plt.show()"
   ]
  },
  {
   "cell_type": "markdown",
   "metadata": {},
   "source": [
    "The task space controller will implement a proportional controller with time constant $K^{-1}$ directly in the task space.\n",
    "$$\n",
    "\\begin{align*}\n",
    "\\frac{\\text{d}}{\\text{d} t} e(q,t)  &= - K \\, e(q,t) \\\\\n",
    "\\frac{\\partial e(q, t)}{\\partial q} \\dot{q} + \\frac{\\partial e (q, t)}{\\partial t} &= - K \\, e(q, t) \\\\\n",
    "\\underbrace{\\frac{\\partial e (q, t)}{\\partial q}}_{\\text{jacobian}}\\dot{q}  &= - K \\, \\underbrace{e(q, t)}_{\\text{error}} - \\underbrace{\\frac{\\partial e (q, t)}{\\partial t}}_{\\text{feedforward}}\n",
    "\\end{align*}\n",
    "$$\n",
    "\n",
    "<!-- $$\n",
    "\\begin{align*}\n",
    " \\dot{q}  &= - \\frac{\\partial e (q, t)}{\\partial q}^{\\dagger}\\big( k \\, e(q, t) + \\frac{\\partial e (q, t)}{\\partial t}\\big)\n",
    " \\end{align*}\n",
    "$$ -->"
   ]
  },
  {
   "cell_type": "markdown",
   "metadata": {},
   "source": [
    "### Questions\n",
    "- 2.1 Implement the task-space controller using a\n",
    "    - 2.1.1 pseudoinverse approach.\n",
    "    - 2.1.2 damped least-squares approach.\n",
    "    - 2.1.3 weighted least-squares approach.\n",
    "- 2.2 Explain why the approach fails for the pseudoinverse, and how the damping terms alleviates the problem. What behaviour do you observe now? Why does this work? Try different values of the regularisation $\\mu$. What happens to the tracking performance when you increase the size of $\\mu$? Can you explain why?\n",
    "- 2.3 When using the damped least squares approach, which task is being prioritized? The position or the orientation? Why?\n",
    "- 2.4 Can you use the weighted least squares to prioritize the position error?\n",
    "- 2.5 Investigate the role of the feedforward term in the control law:\n",
    "    - 2.5.1 What happens if there is only feedback (no feedforward)?\n",
    "    - 2.5.2 What happens if there is only feedforward (no feedback)?\n",
    "\n",
    "- 2.6 (Optional) Implement the weighted damped least-squares controller as an optimization problem using CasADi Opti:\n",
    "    - Include inequality constraints for the robot joint positon and/or velocity limits.\n",
    "- 2.7 (Optional) Implement a hierarchical controller that prioritises the position tracking above the orientation tracking\n",
    "    - e.g. using a QP controller or null-space projection\n",
    "\n",
    "### Task 2.1.1 : Implement the task-space controller using the pseudoinverse approach\n"
   ]
  },
  {
   "cell_type": "code",
   "execution_count": null,
   "metadata": {},
   "outputs": [],
   "source": [
    "def controller_pinv(q,t):\n",
    "    \"\"\"\n",
    "    Computes the control input using the pseudoinverse of the Jacobian.\n",
    "\n",
    "    Parameters:\n",
    "    q (numpy.ndarray): The current joint positions of the robot.\n",
    "    t (float): The current time.\n",
    "\n",
    "    Returns:\n",
    "    numpy.ndarray: The control input for the robot.\n",
    "    \"\"\"\n",
    "\n",
    "    # get the error as a numpy array from the casadi function\n",
    "    error = e_func(q,t).full()\n",
    "    # get the jacobian as a numpy array from the casadi function\n",
    "    jacobian = J_e_func(q, t).full()\n",
    "    # get the feed forward term as a numpy array from the casadi function\n",
    "    feed_forward = feed_forward_func(q, t).full()\n",
    "\n",
    "    K = 10  # [seconds^{-1}]\n",
    "\n",
    "    ##################################\n",
    "    # TODO: implement your controller here\n",
    "    dq = np.array([0,0,0,0,0,0,0])  # [rad/s]\n",
    "    \n",
    "\n",
    "    ##################################\n",
    "    \n",
    "\n",
    "    return dq.ravel()\n",
    "\n",
    "\n",
    "simulate(controller_pinv, q0)"
   ]
  },
  {
   "cell_type": "markdown",
   "metadata": {},
   "source": [
    "### Task 2.1.2 : Implement the task-space controller using a damped least-squares approach"
   ]
  },
  {
   "cell_type": "code",
   "execution_count": null,
   "metadata": {},
   "outputs": [],
   "source": [
    "def controller_dls(q, t):\n",
    "    \"\"\"\n",
    "    Computes the control input using the damped least-squares approach\n",
    "\n",
    "    Parameters:\n",
    "    q (numpy.ndarray): The current joint positions of the robot.\n",
    "    t (float): The current time.\n",
    "\n",
    "    Returns:\n",
    "    numpy.ndarray: The control input for the robot.\n",
    "    \"\"\"\n",
    "\n",
    "    # get the error as a numpy array from the casadi function\n",
    "    error = e_func(q, t).full()\n",
    "    # get the jacobian as a numpy array from the casadi function\n",
    "    jacobian = J_e_func(q, t).full()\n",
    "    # get the feed forward term as a numpy array from the casadi function\n",
    "    feed_forward = feed_forward_func(q, t).full()\n",
    "\n",
    "    K = 10  # [seconds^{-1}]\n",
    "    mu = 1e-3\n",
    "    \n",
    "    ##################################\n",
    "    # TODO: implement your controller here\n",
    "    dq = np.array([0,0,0,0,0,0,0])  # [rad/s]\n",
    "    \n",
    "    ##################################\n",
    "\n",
    "\n",
    "    return dq.ravel()\n",
    "\n",
    "\n",
    "simulate(controller_dls, q0)"
   ]
  },
  {
   "cell_type": "markdown",
   "metadata": {},
   "source": [
    "### Task 2.1.3 : Implement the task-space controller using a weighted least-squares approach"
   ]
  },
  {
   "cell_type": "code",
   "execution_count": null,
   "metadata": {},
   "outputs": [],
   "source": [
    "def controller_wls(q, t):\n",
    "    \"\"\"\n",
    "    Computes the control input using the weighted least-squares of the Jacobian.\n",
    "\n",
    "    Parameters:\n",
    "    q (numpy.ndarray): The current joint positions of the robot.\n",
    "    t (float): The current time.\n",
    "\n",
    "    Returns:\n",
    "    numpy.ndarray: The control input for the robot.\n",
    "    \"\"\"\n",
    "\n",
    "    # get the error as a numpy array from the casadi function\n",
    "    error = e_func(q, t).full()\n",
    "    # get the jacobian as a numpy array from the casadi function\n",
    "    jacobian = J_e_func(q, t).full()\n",
    "    # get the feed forward term as a numpy array from the casadi function\n",
    "    feed_forward = feed_forward_func(q, t).full()\n",
    "\n",
    "    K = 10\n",
    "    mu = 1e-2\n",
    "    # Larger weights for position than orientation\n",
    "    W = np.diag([1, 1, 1, 1e3, 1e3, 1e3])\n",
    "\n",
    "    ##################################\n",
    "    # TODO: implement your controller here\n",
    "    dq = np.array([0,0,0,0,0,0,0])  # [rad/s]\n",
    "    \n",
    "    ##################################\n",
    "\n",
    "\n",
    "\n",
    "    return dq.ravel()\n",
    "\n",
    "simulate(controller_wls, q0)"
   ]
  },
  {
   "cell_type": "code",
   "execution_count": null,
   "metadata": {},
   "outputs": [],
   "source": []
  }
 ],
 "metadata": {
  "kernelspec": {
   "display_name": "py13roboticscourse",
   "language": "python",
   "name": "python3"
  },
  "language_info": {
   "codemirror_mode": {
    "name": "ipython",
    "version": 3
   },
   "file_extension": ".py",
   "mimetype": "text/x-python",
   "name": "python",
   "nbconvert_exporter": "python",
   "pygments_lexer": "ipython3",
   "version": "3.13.2"
  }
 },
 "nbformat": 4,
 "nbformat_minor": 4
}
