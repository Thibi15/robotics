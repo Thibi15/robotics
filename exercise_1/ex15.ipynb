{
 "cells": [
  {
   "cell_type": "markdown",
   "metadata": {},
   "source": [
    "# Exercise 15"
   ]
  },
  {
   "cell_type": "code",
   "execution_count": 31,
   "metadata": {},
   "outputs": [],
   "source": [
    "import pinocchio as pin\n",
    "import numpy as np"
   ]
  },
  {
   "cell_type": "markdown",
   "metadata": {},
   "source": [
    "### Define parameters"
   ]
  },
  {
   "cell_type": "code",
   "execution_count": 32,
   "metadata": {},
   "outputs": [],
   "source": [
    "theta_1 = np.pi / 4\n",
    "theta_2 = np.pi / 8\n",
    "\n",
    "theta_1_dot = 0\n",
    "theta_2_dot = 0\n",
    "\n",
    "L_1 = 1\n",
    "L_2 = 1\n",
    "\n",
    "m_1 = 1\n",
    "m_2 = 1\n",
    "\n",
    "tau_1 = 1\n",
    "tau_2 = 1"
   ]
  },
  {
   "cell_type": "code",
   "execution_count": 33,
   "metadata": {},
   "outputs": [
    {
     "name": "stdout",
     "output_type": "stream",
     "text": [
      "M(theta) = \n",
      " [[4.84775907 1.92387953]\n",
      " [1.92387953 1.        ]]\n",
      "c(theta, theta_dot) = \n",
      " [[-0.]\n",
      " [ 0.]]\n",
      "g(theta) = \n",
      " [[17.62755952]\n",
      " [ 3.75412447]]\n"
     ]
    }
   ],
   "source": [
    "M_inertia = np.array([\n",
    "    [m_1 * L_1**2 + m_2*(L_1**2 + 2*L_1*L_2*np.cos(theta_2) + L_2**2), m_2 *(L_1*L_2 * np.cos(theta_2) + L_2**2) ],\n",
    "    [m_2 *(L_1*L_2 * np.cos(theta_2) + L_2**2), m_2 * L_2**2]\n",
    "])\n",
    "\n",
    "c = np.array([\n",
    "    [-m_2 * L_1 * L_2 * np.sin(theta_2)* (2*theta_1_dot *theta_2_dot )],\n",
    "    [m_2*L_1*L_2*np.sin(theta_2)*theta_1_dot]\n",
    "])\n",
    "\n",
    "g = np.array([\n",
    "    [(m_1 + m_2) * 9.81 * L_1 * np.cos(theta_1) + m_2 * 9.81 * L_2 * np.cos(theta_1 + theta_2)],\n",
    "    [m_2 * 9.81 * L_2 * np.cos(theta_1 + theta_2)]\n",
    "])\n",
    "\n",
    "print('M(theta) = \\n', M_inertia)\n",
    "print('c(theta, theta_dot) = \\n', c)\n",
    "print('g(theta) = \\n', g)"
   ]
  },
  {
   "cell_type": "markdown",
   "metadata": {},
   "source": [
    "### b) Forward kinematics"
   ]
  },
  {
   "cell_type": "code",
   "execution_count": 34,
   "metadata": {},
   "outputs": [
    {
     "name": "stdout",
     "output_type": "stream",
     "text": [
      "T_sb:\n",
      "[[ 0.38268343 -0.92387953  0.          1.08979021]\n",
      " [ 0.92387953  0.38268343  0.          1.63098631]\n",
      " [ 0.          0.          1.          0.        ]\n",
      " [ 0.          0.          0.          1.        ]]\n",
      "\n",
      "Position of end effector\n",
      " [1.08979021 1.63098631 0.        ]\n"
     ]
    }
   ],
   "source": [
    "S_1 = np.array([0, 0, 0, 0, 0, 1]) # different notation then lectures -> [v, w] !!\n",
    "S_2 = np.array([0, -1, 0, 0, 0, 1])\n",
    "\n",
    "# When theta_1 = 0, theta_2 = 0, this is the transformation matrix\n",
    "M = np.array([[1, 0, 0, L_1 + L_2], [0, 1, 0, 0], [0, 0, 1, 0], [0, 0, 0, 1]])\n",
    "\n",
    "# Calculate the transformation matrix for the given thetas via PoE\n",
    "T_sb = pin.exp6(S_1 * theta_1).homogeneous @ pin.exp6(S_2 * theta_2).homogeneous  @ M\n",
    "print(\"T_sb:\")\n",
    "print(T_sb)\n",
    "\n",
    "print('\\nPosition of end effector\\n', pin.SE3(T_sb).translation)"
   ]
  },
  {
   "cell_type": "markdown",
   "metadata": {},
   "source": [
    "### c) Space and body Jacobian"
   ]
  },
  {
   "cell_type": "code",
   "execution_count": 35,
   "metadata": {},
   "outputs": [
    {
     "name": "stdout",
     "output_type": "stream",
     "text": [
      "J_s:\n",
      "[[ 0.          0.70710678]\n",
      " [ 0.         -0.70710678]\n",
      " [ 0.          0.        ]\n",
      " [ 0.          0.        ]\n",
      " [ 0.          0.        ]\n",
      " [ 1.          1.        ]]\n",
      "J_b:\n",
      "[[3.82683432e-01 1.66533454e-16]\n",
      " [1.92387953e+00 1.00000000e+00]\n",
      " [0.00000000e+00 0.00000000e+00]\n",
      " [0.00000000e+00 0.00000000e+00]\n",
      " [0.00000000e+00 0.00000000e+00]\n",
      " [1.00000000e+00 1.00000000e+00]]\n"
     ]
    }
   ],
   "source": [
    "J_s1 = S_1\n",
    "J_s2 = pin.exp6(S_1 * theta_1).action @ S_2\n",
    "\n",
    "J_s = np.column_stack((J_s1, J_s2))\n",
    "print(\"J_s:\")\n",
    "print(J_s)\n",
    "\n",
    "J_b = pin.SE3(T_sb).inverse().action @ J_s\n",
    "print(\"J_b:\")\n",
    "print(J_b)"
   ]
  },
  {
   "cell_type": "markdown",
   "metadata": {},
   "source": [
    "### e) Forward dynamics"
   ]
  },
  {
   "cell_type": "code",
   "execution_count": 36,
   "metadata": {},
   "outputs": [
    {
     "name": "stdout",
     "output_type": "stream",
     "text": [
      "ddq:\n",
      "[[-9.88179975]\n",
      " [16.25726781]]\n"
     ]
    }
   ],
   "source": [
    "ddq = np.linalg.solve(M_inertia, np.array([[tau_1], [tau_2]]) - c - g)\n",
    "print(\"ddq:\")\n",
    "print(ddq)"
   ]
  },
  {
   "cell_type": "markdown",
   "metadata": {},
   "source": [
    "### f) Solve above questions with Pinocchio framework (i.e. via URDF)"
   ]
  },
  {
   "cell_type": "code",
   "execution_count": 37,
   "metadata": {},
   "outputs": [
    {
     "name": "stdout",
     "output_type": "stream",
     "text": [
      "model name: 2R robot arm\n"
     ]
    }
   ],
   "source": [
    "urdf_model_path = \"2R.urdf\"\n",
    "\n",
    "# Load the urdf model\n",
    "model, collision_model, visual_model = pin.buildModelsFromUrdf(\n",
    "    urdf_model_path\n",
    ")\n",
    "print(\"model name: \" + model.name)\n",
    "\n",
    "# Set gravity to y axis since the robot is planar!\n",
    "model.gravity = pin.Motion(np.array([0, -9.81, 0]), np.zeros(3))\n",
    "\n",
    "\n",
    "# Create data required by the algorithms\n",
    "data, collision_data, visual_data = pin.createDatas(\n",
    "    model, collision_model, visual_model\n",
    ")\n",
    "\n",
    "q = np.array([[theta_1], [theta_2]])\n",
    "ee_frame_name = \"point_mass_2\""
   ]
  },
  {
   "cell_type": "markdown",
   "metadata": {},
   "source": [
    "Visualize the robot to see if it is implemented correctly."
   ]
  },
  {
   "cell_type": "code",
   "execution_count": 38,
   "metadata": {},
   "outputs": [
    {
     "name": "stdout",
     "output_type": "stream",
     "text": [
      "You can open the visualizer by visiting the following URL:\n",
      "http://127.0.0.1:7004/static/\n"
     ]
    }
   ],
   "source": [
    "from pinocchio.visualize import MeshcatVisualizer as PMV\n",
    "\n",
    "viz = PMV(model, collision_model, visual_model, collision_data=collision_data, visual_data=visual_data)\n",
    "viz.initViewer(open=False)\n",
    "\n",
    "viz.loadViewerModel()\n",
    "# Display a robot configuration.\n",
    "viz.display(q)\n",
    "viz.displayVisuals(True)\n",
    "viz.displayFrames(True)\n",
    "viz.updateFrames()"
   ]
  },
  {
   "cell_type": "code",
   "execution_count": 39,
   "metadata": {},
   "outputs": [
    {
     "name": "stdout",
     "output_type": "stream",
     "text": [
      "T_sb:\n",
      "  R =\n",
      "0.382683 -0.92388        0\n",
      " 0.92388 0.382683        0\n",
      "       0        0        1\n",
      "  p = 1.08979 1.63099       0\n",
      "\n"
     ]
    }
   ],
   "source": [
    "# Perform the forward kinematics over the kinematic tree\n",
    "pin.forwardKinematics(model, data, q)\n",
    "pin.updateFramePlacements(model, data)\n",
    "\n",
    "# Get the transformation matrix from the world to the frame\n",
    "T_pin = data.oMf[model.getFrameId(ee_frame_name)]\n",
    "print(\"T_sb:\")\n",
    "print(T_pin)"
   ]
  },
  {
   "cell_type": "code",
   "execution_count": 40,
   "metadata": {},
   "outputs": [
    {
     "name": "stdout",
     "output_type": "stream",
     "text": [
      "J_s:\n",
      "[[ 0.          0.70710678]\n",
      " [ 0.         -0.70710678]\n",
      " [ 0.          0.        ]\n",
      " [ 0.          0.        ]\n",
      " [ 0.          0.        ]\n",
      " [ 1.          1.        ]]\n",
      "J_b:\n",
      "[[3.82683432e-01 5.55111512e-17]\n",
      " [1.92387953e+00 1.00000000e+00]\n",
      " [0.00000000e+00 0.00000000e+00]\n",
      " [0.00000000e+00 0.00000000e+00]\n",
      " [0.00000000e+00 0.00000000e+00]\n",
      " [1.00000000e+00 1.00000000e+00]]\n"
     ]
    }
   ],
   "source": [
    "pin.computeJointJacobians(model, data, q)\n",
    "print(\"J_s:\") \n",
    "print(data.J)\n",
    "\n",
    "pin.computeFrameJacobian(model, data, q, model.getFrameId(ee_frame_name), pin.LOCAL)\n",
    "J_pin = pin.getFrameJacobian(model, data, model.getFrameId(ee_frame_name), pin.LOCAL) \n",
    "print(\"J_b:\")\n",
    "print(J_pin)"
   ]
  },
  {
   "cell_type": "code",
   "execution_count": 41,
   "metadata": {},
   "outputs": [
    {
     "name": "stdout",
     "output_type": "stream",
     "text": [
      "ddq:\n",
      "[-9.88179975 16.25726781]\n"
     ]
    }
   ],
   "source": [
    "ddq_pin = pin.aba(model, data, q, np.zeros(2), np.array([[tau_1],[tau_2]]))\n",
    "print(\"ddq:\")\n",
    "print(ddq_pin)"
   ]
  }
 ],
 "metadata": {
  "kernelspec": {
   "display_name": "py13roboticscourse",
   "language": "python",
   "name": "python3"
  },
  "language_info": {
   "codemirror_mode": {
    "name": "ipython",
    "version": 3
   },
   "file_extension": ".py",
   "mimetype": "text/x-python",
   "name": "python",
   "nbconvert_exporter": "python",
   "pygments_lexer": "ipython3",
   "version": "3.13.1"
  }
 },
 "nbformat": 4,
 "nbformat_minor": 2
}
