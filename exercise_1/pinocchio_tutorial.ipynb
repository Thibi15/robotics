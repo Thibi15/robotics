{
 "cells": [
  {
   "cell_type": "markdown",
   "metadata": {},
   "source": [
    "# Exercise Session 1: Kinematics & Dynamics - Pinocchio Tutorial"
   ]
  },
  {
   "cell_type": "markdown",
   "metadata": {},
   "source": [
    "Running the code:\n",
    "- Follow the installation instructions shared for *exercise_0_software_environment*\n",
    "- Use the created software environment (`conda activate py13roboticscourse`)"
   ]
  },
  {
   "cell_type": "code",
   "execution_count": 1,
   "metadata": {},
   "outputs": [],
   "source": [
    "import numpy as np\n",
    "import pinocchio as pin\n",
    "from pinocchio.utils import *"
   ]
  },
  {
   "cell_type": "markdown",
   "metadata": {},
   "source": [
    "## Basics"
   ]
  },
  {
   "cell_type": "code",
   "execution_count": 2,
   "metadata": {},
   "outputs": [
    {
     "name": "stdout",
     "output_type": "stream",
     "text": [
      "R,p:    R =\n",
      "  0.2 -0.76  0.52\n",
      " 0.92   0.2 -0.04\n",
      "-0.04  0.52  0.84\n",
      "  p = 1 2 3\n",
      "\n",
      "T:  [[ 0.2  -0.76  0.52  1.  ]\n",
      " [ 0.92  0.2  -0.04  2.  ]\n",
      " [-0.04  0.52  0.84  3.  ]\n",
      " [ 0.    0.    0.    1.  ]]\n",
      "p:  [1. 2. 3.]\n",
      "R:  [[ 0.2  -0.76  0.52]\n",
      " [ 0.92  0.2  -0.04]\n",
      " [-0.04  0.52  0.84]]\n",
      "T:  [[ 0.70710678 -0.70710678  0.          0.1       ]\n",
      " [ 0.70710678  0.70710678  0.          0.05      ]\n",
      " [ 0.          0.          1.          0.3       ]\n",
      " [ 0.          0.          0.          1.        ]]\n"
     ]
    }
   ],
   "source": [
    "qu = pin.Quaternion(0.7,0.2,0.2,0.6) # geometry\n",
    "R = qu.matrix()\n",
    "p = np.array([1,2,3])\n",
    "T=pin.SE3(R,p) # transformation aMb=pin.SE3(aRb,apb)\n",
    "\n",
    "print(\"R,p: \", T)\n",
    "print(\"T: \", T.homogeneous) # homegeneous matrix\n",
    "print(\"p: \", T.translation) # translation vector\n",
    "print(\"R: \", T.rotation) # rotation matrix\n",
    "\n",
    "T = pin.SE3(rotate('z',np.pi/4), np.array([0.1,0.05,0.3]))\n",
    "\n",
    "print(\"T: \", T.homogeneous)"
   ]
  },
  {
   "cell_type": "markdown",
   "metadata": {},
   "source": [
    "## Loading and using a robot model (URDF), robot kinematics"
   ]
  },
  {
   "cell_type": "code",
   "execution_count": 3,
   "metadata": {},
   "outputs": [
    {
     "name": "stdout",
     "output_type": "stream",
     "text": [
      "model name: ur10\n",
      "q: [-0.28403702  1.6194398  -0.84958421  0.1684008   5.68288633  5.23006147]\n",
      "\n",
      "T_{world,ee_link}:\n",
      "  R =\n",
      "-0.0893396   0.982843   0.161363\n",
      "  0.885691   0.004287   0.464256\n",
      "  0.455599   0.184394  -0.870878\n",
      "  p = 0.314016 0.158369 -0.90871\n",
      "\n",
      "\n",
      "Joint placements:\n",
      "universe                 :  0.00  0.00  0.00\n",
      "shoulder_pan_joint       :  0.00  0.00  0.13\n",
      "shoulder_lift_joint      :  0.06  0.21  0.13\n",
      "elbow_joint              : -0.01  0.06 -0.48\n",
      "wrist_1_joint            :  0.38 -0.06 -0.88\n",
      "wrist_2_joint            :  0.41  0.05 -0.88\n",
      "wrist_3_joint            :  0.32  0.08 -0.95\n",
      "\n",
      "Collision object placements:\n",
      "0 :  0.00  0.00  0.00\n",
      "1 :  0.00  0.00  0.13\n",
      "2 :  0.06  0.21  0.13\n",
      "3 : -0.01  0.06 -0.48\n",
      "4 :  0.38 -0.06 -0.88\n",
      "5 :  0.41  0.05 -0.88\n",
      "6 :  0.32  0.08 -0.95\n",
      "7 :  0.31  0.15 -0.91\n",
      "\n",
      "Visual object placements:\n",
      "0 :  0.00  0.00  0.00\n",
      "1 :  0.00  0.00  0.13\n",
      "2 :  0.06  0.21  0.13\n",
      "3 : -0.01  0.06 -0.48\n",
      "4 :  0.38 -0.06 -0.88\n",
      "5 :  0.41  0.05 -0.88\n",
      "6 :  0.32  0.08 -0.95\n"
     ]
    }
   ],
   "source": [
    "\"\"\"\n",
    "This code is simulating a robot in a virtual environment using Pinocchio, \n",
    "a robotics library for kinematics and dynamics. \n",
    "It helps understand how the robot moves and how its different parts \n",
    "(joints, collision models, and visual models) are positioned in space.\n",
    "\n",
    "The code samples a random robot pose, computes forward kinematics, \n",
    "and updates the placements of joints, frames, collision objects, \n",
    "and visual objects. \n",
    "Finally, it prints the placements of all these elements \n",
    "in the world frame.\n",
    "\"\"\"\n",
    "\n",
    "urdf_model_path = \"ur10_robot.urdf\"\n",
    "mesh_dir = \"meshes\"\n",
    "\n",
    "# Load the urdf model\n",
    "\"\"\"\n",
    "URDF = Unified Robotics Description Format\n",
    "The URDF file describes the robot's structure, including its:\n",
    "Links (rigid parts like arms, hands, etc.)\n",
    "Joints (how the links move relative to each other)\n",
    "Collision model (used for detecting collisions)\n",
    "Visual model (for rendering in a simulator)\n",
    "\"\"\"\n",
    "model, collision_model, visual_model = pin.buildModelsFromUrdf(\n",
    "    urdf_model_path, mesh_dir\n",
    ")\n",
    "\"\"\"\n",
    "model: The kinematic and dynamic model.\n",
    "collision_model: The collision representation for collision checking.\n",
    "visual_model: The visual representation for rendering.\n",
    "\"\"\"\n",
    "print(\"model name: \" + model.name)\n",
    "\n",
    "\n",
    "\n",
    "# Create data required by the algorithms\n",
    "data, collision_data, visual_data = pin.createDatas(\n",
    "    model, collision_model, visual_model\n",
    ")\n",
    "\"\"\"\n",
    "data: Stores intermediate computations for \n",
    "forward/inverse dynamics, kinematics, etc.\n",
    "collision_data: Stores collision-related data.\n",
    "visual_data: Stores visualization-related data.\n",
    "\"\"\"\n",
    "\n",
    "\n",
    "\n",
    "\"\"\"\n",
    "The goal is to:\n",
    "Load the robot model: \n",
    "    Read the URDF file and create models for kinematics, collision, and visualization.\n",
    "Generate a random configuration: \n",
    "    Assign random values to the robot's joint angles \n",
    "    (e.g., the arm moves to a random pose).\n",
    "Compute forward kinematics: \n",
    "    Determine where each part of the robot is in 3D space.\n",
    "Extract the position of the end-effector (gripper): \n",
    "    Find the transformation from the world frame to the end-effector \n",
    "    (the tool at the robot’s end, e.g., a hand or a welding tool).\n",
    "Update the geometry: \n",
    "    Compute where the collision and visual objects should be in 3D space.\n",
    "Print everything: \n",
    "    Display the positions of all joints, collision objects, and visual elements.\n",
    "\"\"\"\n",
    "\n",
    "\n",
    "\n",
    "\n",
    "# Sample a random configuration\n",
    "# Generates a random joint configuration q\n",
    "# within the robot's joint limits.\n",
    "q = pin.randomConfiguration(model)\n",
    "print(f\"q: {q.T}\")\n",
    "\n",
    "# Perform the forward kinematics over the kinematic tree\n",
    "\"\"\"\n",
    "Computes the pose (position and orientation) of all joints and frames in the kinematic tree.\n",
    "Updates the frame placements based on the computed forward kinematics.\n",
    "\"\"\"\n",
    "pin.forwardKinematics(model, data, q)\n",
    "pin.updateFramePlacements(model, data)\n",
    "\n",
    "# Get the transformation matrix from the world to the frame\n",
    "# Retrieves the transformation matrix from the world \n",
    "# to the end-effector (\"ee_link\") frame.\n",
    "frame_name = \"ee_link\"\n",
    "T_pin = data.oMf[model.getFrameId(frame_name)]\n",
    "print(\"\\nT_{world,ee_link}:\")\n",
    "print(T_pin)\n",
    "\n",
    "# Update Geometry models\n",
    "# Updates the geometrical representations (collision and visual) \n",
    "# based on the computed kinematics.\n",
    "pin.updateGeometryPlacements(model, data, collision_model, collision_data)\n",
    "pin.updateGeometryPlacements(model, data, visual_model, visual_data)\n",
    "\n",
    "# Print out the placement of each joint of the kinematic tree\n",
    "# Iterates through all joints and prints their positions in the world frame.\n",
    "print(\"\\nJoint placements:\")\n",
    "for name, oMi in zip(model.names, data.oMi):\n",
    "    print(\"{:<24} : {: .2f} {: .2f} {: .2f}\".format(name, *oMi.translation.T.flat))\n",
    "\n",
    "# Print out the placement of each collision geometry object\n",
    "# Prints the world-frame positions of all collision objects.\n",
    "print(\"\\nCollision object placements:\")\n",
    "for k, oMg in enumerate(collision_data.oMg):\n",
    "    print(\"{:d} : {: .2f} {: .2f} {: .2f}\".format(k, *oMg.translation.T.flat))\n",
    "\n",
    "# Print out the placement of each visual geometry object\n",
    "# Prints the world-frame positions of all visual objects.\n",
    "print(\"\\nVisual object placements:\")\n",
    "for k, oMg in enumerate(visual_data.oMg):\n",
    "    print(\"{:d} : {: .2f} {: .2f} {: .2f}\".format(k, *oMg.translation.T.flat))"
   ]
  },
  {
   "cell_type": "markdown",
   "metadata": {},
   "source": [
    "## Visualize"
   ]
  },
  {
   "cell_type": "code",
   "execution_count": 4,
   "metadata": {},
   "outputs": [
    {
     "name": "stdout",
     "output_type": "stream",
     "text": [
      "You can open the visualizer by visiting the following URL:\n",
      "http://127.0.0.1:7001/static/\n"
     ]
    }
   ],
   "source": [
    "from pinocchio.visualize import MeshcatVisualizer as PMV\n",
    "# Meshcat, a browser-based 3D visualization tool.\n",
    "\n",
    "# This creates a visualizer (viz) that can display the robot model (kinematics, collision, and visual representations).\n",
    "viz = PMV(model, collision_model, visual_model, collision_data=collision_data, visual_data=visual_data)\n",
    "# The collision_data and visual_data are passed to allow visualization of both collision shapes and rendered model.\n",
    "viz.initViewer(open=False) # initialize, do not open the viewer automatically\n",
    "\n",
    "viz.loadViewerModel() # Load the robot model\n",
    "# Display a robot configuration.\n",
    "viz.display(q) # display random configuration\n",
    "viz.displayVisuals(True) # Enable rendering of the robot's visual model\n",
    "viz.displayFrames(True) # Displays coordinate frames\n",
    "viz.updateFrames() # Update the coordinate frames so they reflect the latest robot configuration"
   ]
  },
  {
   "cell_type": "code",
   "execution_count": 19,
   "metadata": {},
   "outputs": [
    {
     "name": "stdout",
     "output_type": "stream",
     "text": [
      "q: [-1.61371038  6.03655139 -0.52225353  1.86918142  0.77212906 -2.51547724]\n"
     ]
    }
   ],
   "source": [
    "# just some random configuration displaying\n",
    "q = pin.randomConfiguration(model)\n",
    "print(f\"q: {q.T}\")\n",
    "viz.display(q)\n",
    "viz.displayVisuals(True)\n",
    "viz.displayFrames(True)\n",
    "viz.updateFrames()"
   ]
  },
  {
   "cell_type": "markdown",
   "metadata": {},
   "source": [
    "## Dynamics"
   ]
  },
  {
   "cell_type": "code",
   "execution_count": 18,
   "metadata": {},
   "outputs": [
    {
     "name": "stdout",
     "output_type": "stream",
     "text": [
      "ddq: [ 1.00897350e+00 -1.06646314e+01  3.99540055e+00  7.92635598e+01\n",
      "  1.25760059e+02  1.50727752e+03]\n",
      "ddq_dq: [[-0.00000000e+00 -2.38395365e-01 -6.72349775e-01  1.24860900e-01\n",
      "  -4.65978748e-03 -1.02069410e-05]\n",
      " [-0.00000000e+00 -1.83101632e+01  7.89465322e+00 -1.66816050e-01\n",
      "  -9.06725323e-02 -3.15962156e-04]\n",
      " [-0.00000000e+00  3.23755308e+01 -2.82378611e+01  8.00579032e-01\n",
      "  -5.31115763e-02 -1.80705222e-04]\n",
      " [-0.00000000e+00 -6.98004409e+00  2.70910589e+01  6.15575165e+00\n",
      "  -5.60131721e+01 -1.94102913e-01]\n",
      " [-0.00000000e+00  1.28616806e+00  1.69978215e+00  9.40952409e-01\n",
      "   8.60079476e-02 -8.62427567e-01]\n",
      " [-0.00000000e+00  3.28940730e+00  3.03882542e+00  3.28052732e+00\n",
      "  -8.82342943e+01 -3.42660040e-01]]\n",
      "ddq_dv: [[-1.13374235e+00 -3.48653809e-01 -9.38959213e-02  2.15295604e-03\n",
      "   4.11861249e-04 -1.07924223e-06]\n",
      " [ 1.18675357e+00  1.51940829e+00  8.30641994e-01 -7.80009900e-03\n",
      "  -3.11454247e-04 -3.34086088e-05]\n",
      " [-1.96468213e+00 -3.94985812e+00 -1.70301886e+00  4.00837792e-02\n",
      "   1.27611159e-04 -1.91070670e-05]\n",
      " [-2.50640957e-01 -3.49480192e-01 -7.43141810e-01 -1.77685846e-02\n",
      "  -1.15533353e-01 -2.05236867e-02]\n",
      " [ 1.67023194e+00  5.31450546e-01  2.86939271e-01  1.92665100e-01\n",
      "  -3.08937713e-03  1.39951193e-01]\n",
      " [ 1.16138664e+00 -1.00372547e+00 -4.91292387e-01  1.52195949e-01\n",
      "  -1.64947422e+00 -7.77953464e-03]]\n",
      "ddq_dtau: [[ 1.31204386e-01 -3.87599160e-02  7.38145106e-02 -1.47261127e-02\n",
      "  -1.24911301e-01  4.48722980e-02]\n",
      " [-3.87599160e-02  4.01468018e-01 -8.31155356e-01  5.46330333e-01\n",
      "   3.66857713e-02  3.31135611e-02]\n",
      " [ 7.38145106e-02 -8.31155356e-01  2.28486527e+00 -1.37499921e+00\n",
      "  -7.03920382e-02  5.06790403e-02]\n",
      " [-1.47261127e-02  5.46330333e-01 -1.37499921e+00  7.54603291e+01\n",
      "  -1.16851349e-01  2.82117597e+01]\n",
      " [-1.24911301e-01  3.66857713e-02 -7.03920382e-02 -1.16851349e-01\n",
      "   1.65616636e+02 -9.23243013e-02]\n",
      " [ 4.48722980e-02  3.31135611e-02  5.06790403e-02  2.82117597e+01\n",
      "  -9.23243013e-02  1.91018168e+03]]\n",
      "tau_est: [0.73250543 0.8691764  0.96944399 0.8126162  0.76425923 0.77873086]\n"
     ]
    }
   ],
   "source": [
    "\"\"\"\n",
    "This code performs dynamics computations for a robot using Pinocchio:\n",
    "Forward dynamics (FD): Computes joint accelerations (ddq) given joint positions (q), velocities (v), and torques (tau).\n",
    "Computing derivatives of the FD: Determines how joint accelerations change with respect to position, velocity, and torque.\n",
    "Inverse dynamics (ID): Computes joint torques (tau) required to achieve a given motion using the Recursive Newton-Euler Algorithm (RNEA).\n",
    "\n",
    "Forward Dynamics (Aba (Articulated Body Algorithm) Algorithm)\n",
    "Goal: Given joint position, velocity, and torques, compute joint accelerations.\n",
    "\"\"\"\n",
    "v = np.random.rand(model.nv, 1)  # random joint velocity\n",
    "tau = np.random.rand(model.nv, 1)  # random joint torques\n",
    "\n",
    "# Forward dynamics (joint accelerations ddq)\n",
    "ddq = pin.aba(model, data, q, v, tau)\n",
    "print(f\"ddq: {ddq}\")\n",
    "\n",
    "# Evaluate the derivatives\n",
    "# Compute how joint accelerations change with respect to q, v, and tau.\n",
    "pin.computeABADerivatives(model, data, q, v, tau)\n",
    "\n",
    "# Retrieve the derivatives in data\n",
    "ddq_dq = data.ddq_dq  # Derivatives of the FD w.r.t. the joint config vector, How acceleration changes with position\n",
    "ddq_dv = data.ddq_dv  # Derivatives of the FD w.r.t. the joint velocity vector, How acceleration changes with velocity\n",
    "ddq_dtau = data.Minv  # Derivatives of the FD w.r.t. the joint acceleration vector, How acceleration changes with torque\n",
    "\"\"\"\n",
    "ddq_dq: How changing joint positions affects joint accelerations.\n",
    "ddq_dv: How changing joint velocities affects joint accelerations.\n",
    "ddq_dtau: Inverse of the mass matrix, linking torque to acceleration.\n",
    "\"\"\"\n",
    "\n",
    "print(f\"ddq_dq: {ddq_dq}\")\n",
    "print(f\"ddq_dv: {ddq_dv}\")\n",
    "print(f\"ddq_dtau: {ddq_dtau}\")\n",
    "\n",
    "# Inverse dynamics (joint torques), using RNEA\n",
    "# Compute the joint torques (tau) needed to achieve a given motion.\n",
    "tau = pin.rnea(model, data, q, v, ddq)\n",
    "print(f\"tau_est: {tau}\")\n",
    "\n",
    "\"\"\"\n",
    "Forward dynamics (ABA): Given torque (tau), find acceleration (ddq).\n",
    "Inverse dynamics (RNEA): Given acceleration (ddq), find torque (tau).\n",
    "Derivative computations help in optimization, motion planning, and control.\n",
    "\"\"\""
   ]
  },
  {
   "cell_type": "markdown",
   "metadata": {},
   "source": [
    "## CasADi-Pinocchio interface"
   ]
  },
  {
   "cell_type": "code",
   "execution_count": 7,
   "metadata": {},
   "outputs": [],
   "source": [
    "from pinocchio import casadi as cpin\n",
    "import casadi as ca\n",
    "import os"
   ]
  },
  {
   "cell_type": "markdown",
   "metadata": {},
   "source": [
    "Use cpin instead of pin for every function from Pinocchio"
   ]
  },
  {
   "cell_type": "code",
   "execution_count": 8,
   "metadata": {},
   "outputs": [],
   "source": [
    "\"\"\"\n",
    "The following code block do the following:\n",
    "This code symbolically formulates and computes robot dynamics (forward and inverse dynamics, as well as forward kinematics) using CasADi and Pinocchio. \n",
    "The idea is to:\n",
    "- Define symbolic representations of the robot’s joint states (position, velocity, torque, acceleration).\n",
    "- Compute forward and inverse dynamics symbolically using Pinocchio.\n",
    "- Convert these symbolic expressions into CasADi functions for efficient evaluation.\n",
    "- Save and reload the functions, enabling their use in optimization, control, or simulation.\n",
    "\n",
    "CasADi allows efficient computation of robot dynamics.\n",
    "Symbolic expressions enable fast optimization, useful in trajectory planning and control.\n",
    "It supports automatic differentiation, crucial for gradient-based optimization.\n",
    "\"\"\"\n",
    "\n",
    "# Define the equivalent casadi model and data\n",
    "cmodel = cpin.Model(model)\n",
    "cdata = cmodel.createData()"
   ]
  },
  {
   "cell_type": "code",
   "execution_count": 9,
   "metadata": {},
   "outputs": [],
   "source": [
    "# Define CasADi symbols for joint positions (q), velocities (dq), and torques (tau)\n",
    "cq = ca.SX.sym('q', model.nq)  # Joint positions (symbolic)\n",
    "cdq = ca.SX.sym('dq', model.nq)  # Joint velocities (symbolic)\n",
    "ctau = ca.SX.sym('tau', model.nq)  # Joint torques (symbolic)\n",
    "\"\"\"\n",
    "cq, cdq, and ctau are symbolic representations of the robot's joint positions, velocities, and torques.\n",
    "This allows us to define symbolic functions that can later be evaluated efficiently.\n",
    "\"\"\"\n",
    "\n",
    "\n",
    "\"\"\"\n",
    "Key Idea:\n",
    "Articulated Body Algorithm (ABA) computes joint accelerations (ddq) given:\n",
    "q (joint position)\n",
    "dq (joint velocity)\n",
    "tau (joint torque)\n",
    "We convert this symbolic expression into a CasADi function and save it.\n",
    "The function can be reused in optimization, control, or simulation, avoiding redundant computations.\n",
    "\"\"\"\n",
    "# Compute the forward dynamics\n",
    "cddq = cpin.aba(cmodel, cdata, cq, cdq, ctau)\n",
    "# Convert to casadi function\n",
    "forward_dynamics_function = ca.Function('forward_dynamics', [cq, cdq, ctau], [ca.cse(cddq)], ['q', 'dq', 'tau'], ['ddq'])\n",
    "# Save the function\n",
    "os.makedirs('casadi_functions', exist_ok=True)\n",
    "forward_dynamics_function.save('casadi_functions/forward_dynamics.casadi')"
   ]
  },
  {
   "cell_type": "code",
   "execution_count": 10,
   "metadata": {},
   "outputs": [],
   "source": [
    "# do the same for inverse dynamics\n",
    "\n",
    "# Define casadi symbols for the joints\n",
    "cq = ca.SX.sym('q', model.nq)\n",
    "cdq = ca.SX.sym('dq', model.nq)\n",
    "cddq = ca.SX.sym('ddq', model.nq)\n",
    "\n",
    "# Compute the inverse dynamics\n",
    "ctau = cpin.rnea(cmodel, cdata, cq, cdq, cddq)\n",
    "# Convert to casadi function\n",
    "inverse_dynamics_function = ca.Function('inverse_dynamics', [cq, cdq, cddq], [\n",
    "                                        ca.cse(ctau)], ['q', 'dq', 'ddq'], ['tau'])\n",
    "# Save the function\n",
    "inverse_dynamics_function.save(\n",
    "    'casadi_functions/inverse_dynamics.casadi')"
   ]
  },
  {
   "cell_type": "code",
   "execution_count": 11,
   "metadata": {},
   "outputs": [],
   "source": [
    "# do the same for forward kinematics\n",
    "\n",
    "# Define casadi symbols for the joints\n",
    "cq = ca.SX.sym('q', model.nq)\n",
    "cdq = ca.SX.sym('dq', model.nq)\n",
    "cddq = ca.SX.sym('ddq', model.nq)\n",
    "\n",
    "# Compute the forwards kinematics\n",
    "cpin.framesForwardKinematics(cmodel, cdata, cq)\n",
    "\n",
    "frame_name = \"ee_link\"\n",
    "\n",
    "# Get the transformation matrix from the world to the frame\n",
    "T_pin = cdata.oMf[model.getFrameId(frame_name)]\n",
    "\n",
    "# Combine the rotation and translation into one matrix\n",
    "T = ca.SX.zeros(4, 4)\n",
    "T[:3, :3] = T_pin.rotation\n",
    "T[:3, 3] = T_pin.translation\n",
    "T[3, 3] = 1\n",
    "\n",
    "# Simplify the matrix\n",
    "T = ca.cse(ca.sparsify(T, 1e-10))\n",
    "\n",
    "# Define the casadi function\n",
    "T_fk = ca.Function('T_fk', [cq], [T], ['q'], ['T_world_'+frame_name])\n",
    "\n",
    "# Save the function\n",
    "T_fk.save('casadi_functions/T_world_'+frame_name+'.casadi')"
   ]
  },
  {
   "cell_type": "markdown",
   "metadata": {},
   "source": [
    "Load functions to reuse them without Pinocchio"
   ]
  },
  {
   "cell_type": "code",
   "execution_count": 12,
   "metadata": {},
   "outputs": [
    {
     "name": "stdout",
     "output_type": "stream",
     "text": [
      "ddq: [-5.86468, -19.881, 4.08795, 25.199, 110.876, 895.486]\n"
     ]
    }
   ],
   "source": [
    "\"\"\"\n",
    "now we can Load functions to reuse them without Pinocchio\n",
    "for example:\n",
    "\"\"\"\n",
    "\n",
    "# Forward dynamics\n",
    "fwd_dyn = ca.Function.load('casadi_functions/forward_dynamics.casadi')\n",
    "\n",
    "ddq = fwd_dyn(q, v, tau)\n",
    "print(f\"ddq: {ddq}\")\n",
    "\n",
    "\"\"\"\n",
    "Why do this (use casadi)?\n",
    "Symbolic Representation: Instead of computing forward/inverse dynamics numerically, we symbolically express them using CasADi.\n",
    "Optimization & Control: These functions can be used for trajectory optimization, inverse kinematics, or model predictive control (MPC).\n",
    "Efficiency & Reusability: The saved functions can be loaded and evaluated efficiently in real-time for robot motion control.\n",
    "Automatic Differentiation: Since CasADi supports automatic differentiation, these functions can be differentiated for optimization problems.\n",
    "\"\"\""
   ]
  }
 ],
 "metadata": {
  "kernelspec": {
   "display_name": "Python 3 (ipykernel)",
   "language": "python",
   "name": "python3"
  },
  "language_info": {
   "codemirror_mode": {
    "name": "ipython",
    "version": 3
   },
   "file_extension": ".py",
   "mimetype": "text/x-python",
   "name": "python",
   "nbconvert_exporter": "python",
   "pygments_lexer": "ipython3",
   "version": "3.13.2"
  }
 },
 "nbformat": 4,
 "nbformat_minor": 4
}
