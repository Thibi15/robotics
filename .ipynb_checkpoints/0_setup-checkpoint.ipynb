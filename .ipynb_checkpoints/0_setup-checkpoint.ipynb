{
 "cells": [
  {
   "cell_type": "markdown",
   "id": "1424ad8c-175f-4d2b-9584-316102b0b717",
   "metadata": {},
   "source": [
    "# Test environment \n",
    "Check whether you can run the cells below without errors\n",
    "\n",
    "## Try to import the libraries"
   ]
  },
  {
   "cell_type": "code",
   "execution_count": null,
   "id": "01353e2d-4ff1-499b-9756-0331f44a231c",
   "metadata": {},
   "outputs": [],
   "source": [
    "from math import pi\n",
    "\n",
    "import casadi\n",
    "import numpy as np\n",
    "from matplotlib import pyplot as plt\n",
    "from pinocchio import casadi as cpin\n",
    "from ipywidgets import interact\n",
    "from example_robot_data import load\n",
    "from pinocchio.visualize import MeshcatVisualizer\n",
    "import pandas"
   ]
  },
  {
   "cell_type": "markdown",
   "id": "66ea61a4-21ad-4e95-8e5a-435466721deb",
   "metadata": {},
   "source": [
    "## Say hello to Talos"
   ]
  },
  {
   "cell_type": "code",
   "execution_count": null,
   "id": "0d60d7bb-d25f-47b0-9335-b25954fbfefb",
   "metadata": {},
   "outputs": [],
   "source": [
    "talos = load(\"talos\")\n",
    "viz = MeshcatVisualizer(talos.model, talos.collision_model, talos.visual_model)\n",
    "viz.initViewer(loadModel=True)\n",
    "viz.viewer.jupyter_cell()\n",
    "\n",
    "# click on the url below to open it in a standalone browser window"
   ]
  },
  {
   "cell_type": "code",
   "execution_count": null,
   "id": "d2568e35-064d-4bec-9af4-a40b9ef68c99",
   "metadata": {},
   "outputs": [],
   "source": [
    "q0 = talos.q0\n",
    "viz.display(q0)"
   ]
  },
  {
   "cell_type": "markdown",
   "id": "b545daa8-0b6c-471e-8677-f60a65604820",
   "metadata": {},
   "source": [
    "### See whether Talos can wave back"
   ]
  },
  {
   "cell_type": "code",
   "execution_count": null,
   "id": "5fd224c4-8b75-435d-b0b7-fcd545cb66cc",
   "metadata": {},
   "outputs": [],
   "source": [
    "@interact(shoulder=(-0.5, 0.5, 0.01))\n",
    "def say_hi(shoulder=0):\n",
    "    q0[30] = pi - shoulder\n",
    "    viz.display(q0)"
   ]
  },
  {
   "cell_type": "code",
   "execution_count": null,
   "id": "ba9fe28e-6083-4c79-8dee-ab62ae9a7d37",
   "metadata": {},
   "outputs": [],
   "source": [
    "differentiable_talos = cpin.Model(talos.model)\n",
    "differentiable_data = differentiable_talos.createData()\n",
    "cpin.forwardKinematics(differentiable_talos, differentiable_data, casadi.SX(q0))"
   ]
  },
  {
   "cell_type": "markdown",
   "id": "e8dff67f-f7c7-43c3-9c5b-0546338d294a",
   "metadata": {},
   "source": [
    "## Warm up for the course by solving some optimization problems\n",
    "\n",
    "Rosenbrock problem:\n",
    "$$\n",
    "\\min_{x,y} \\quad (1-x)^2 + (y - x^2)^2\n",
    "$$\n",
    "\n",
    "### Formulate the problem using CasADi"
   ]
  },
  {
   "cell_type": "code",
   "execution_count": null,
   "id": "5884f0e1-42eb-4607-90aa-f6c3c2efb8ac",
   "metadata": {},
   "outputs": [],
   "source": [
    "opti = casadi.Opti()\n",
    "\n",
    "x = opti.variable()\n",
    "y = opti.variable()\n",
    "\n",
    "opti.minimize((1-x)**2 + (y-x**2)**2)\n",
    "\n",
    "# Choose IPOPT as the solver and solve\n",
    "opti.solver('ipopt')\n",
    "sol = opti.solve()\n",
    "\n",
    "# Get the optimal solution values\n",
    "x_opt = sol.value(x)\n",
    "y_opt = sol.value(y)\n",
    "print(\"Optimal solution: x =\", x_opt, \"y =\", y_opt)\n"
   ]
  },
  {
   "cell_type": "markdown",
   "id": "934b0831-c66a-4dc0-8eff-dcddd519bf64",
   "metadata": {},
   "source": [
    "### Plot the results"
   ]
  },
  {
   "cell_type": "code",
   "execution_count": null,
   "id": "ab9720d5-e968-4f97-8edc-c0e72d8fe658",
   "metadata": {},
   "outputs": [],
   "source": [
    "# Create a grid to evaluate the function for contour plotting\n",
    "x_vals = np.linspace(-1, 2, 400)\n",
    "y_vals = np.linspace(-1, 3, 400)\n",
    "X, Y = np.meshgrid(x_vals, y_vals)\n",
    "Z = (1 - X)**2 + (Y - X**2)**2\n",
    "\n",
    "# Plot the contours of the function\n",
    "plt.figure(figsize=(8, 6))\n",
    "contour_levels = np.logspace(-2, 3, 20)  # logarithmically spaced contour levels\n",
    "CS = plt.contour(X, Y, Z, levels=contour_levels, cmap='viridis')\n",
    "plt.clabel(CS, inline=1, fontsize=10)\n",
    "plt.plot(x_opt, y_opt, 'r*', markersize=15, label='Optimal solution')\n",
    "plt.title('Contour Plot and Optimal Solution')\n",
    "plt.xlabel('x')\n",
    "plt.ylabel('y')\n",
    "plt.legend()\n",
    "plt.show()"
   ]
  },
  {
   "cell_type": "code",
   "execution_count": null,
   "id": "a883b69b-e80c-4bea-b6f1-f9cbb6d07981",
   "metadata": {},
   "outputs": [],
   "source": []
  },
  {
   "cell_type": "code",
   "execution_count": null,
   "id": "ce630a8b-b98b-4e22-b6f2-49e4d7c9e7c9",
   "metadata": {},
   "outputs": [],
   "source": []
  },
  {
   "cell_type": "code",
   "execution_count": null,
   "id": "8aa09994-299a-45c3-8b16-2078c1262253",
   "metadata": {},
   "outputs": [],
   "source": []
  }
 ],
 "metadata": {
  "kernelspec": {
   "display_name": "Python 3 (ipykernel)",
   "language": "python",
   "name": "python3"
  },
  "language_info": {
   "codemirror_mode": {
    "name": "ipython",
    "version": 3
   },
   "file_extension": ".py",
   "mimetype": "text/x-python",
   "name": "python",
   "nbconvert_exporter": "python",
   "pygments_lexer": "ipython3",
   "version": "3.13.2"
  }
 },
 "nbformat": 4,
 "nbformat_minor": 5
}
